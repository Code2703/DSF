{
 "cells": [
  {
   "cell_type": "markdown",
   "metadata": {},
   "source": [
    "### MLP Estimation of all Exogenous Variables\n",
    "\n",
    "\n",
    "Just like the FFN Model v2 code, but instead of estimating incValue through autoregressive methods, we estimate every single exogenous variables with up to 52 lags (weekly). We then save all lags as well as the predictions for the test time frame (2019) in a dataframe which can be used to model."
   ]
  },
  {
   "cell_type": "code",
   "execution_count": null,
   "metadata": {},
   "outputs": [],
   "source": []
  }
 ],
 "metadata": {
  "language_info": {
   "name": "python"
  }
 },
 "nbformat": 4,
 "nbformat_minor": 2
}
