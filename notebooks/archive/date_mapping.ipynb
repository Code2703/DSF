{
 "cells": [
  {
   "cell_type": "code",
   "execution_count": null,
   "metadata": {},
   "outputs": [],
   "source": [
    "# Import data\n",
    "flu = pd.read_csv(FLU_PATH)\n",
    "weather = pd.read_csv(f'{WEATHER_PATH}reg_weather.csv')\n",
    "google_flu = pd.read_csv(f'{GOOGLE_PATH}reg_google_grippe.csv')\n",
    "google_symptoms = pd.read_csv(f'{GOOGLE_PATH}reg_google_fieber_husten.csv')"
   ]
  },
  {
   "cell_type": "code",
   "execution_count": null,
   "metadata": {},
   "outputs": [],
   "source": [
    "# Create dataframe for country-level observations, no differentiation between sex or age\n",
    "flu_CH = flu.query('georegion_type == \"country\" and agegroup == \"all\" and sex == \"all\"').copy()\n",
    "\n",
    "# Create dataframe for regional observations, no differentiation between sex or age\n",
    "flu_reg = flu.query('georegion_type == \"sentinella_region\" and agegroup == \"all\" and sex == \"all\"').copy()\n",
    "\n",
    "# Drop unknown region entries from flu_region using mask\n",
    "flu_reg = flu_reg[~(flu_reg['georegion'] == 'unknown')]"
   ]
  },
  {
   "cell_type": "code",
   "execution_count": null,
   "metadata": {},
   "outputs": [],
   "source": [
    "dates = google_flu.Woche.unique()\n",
    "dates"
   ]
  },
  {
   "cell_type": "code",
   "execution_count": null,
   "metadata": {},
   "outputs": [],
   "source": [
    "weeks = flu_reg.temporal.unique()\n",
    "weeks"
   ]
  },
  {
   "cell_type": "code",
   "execution_count": null,
   "metadata": {},
   "outputs": [],
   "source": [
    "from datetime import datetime, timedelta\n",
    "\n",
    "# Function to convert date to 'YYYY-Www' format with adjustment for Sundays\n",
    "def date_to_iso_week_adjusted(date_str):\n",
    "    date_obj = datetime.strptime(date_str, '%Y-%m-%d')\n",
    "    year, week, weekday = date_obj.isocalendar()\n",
    "\n",
    "    # Adjust for Sundays\n",
    "    if weekday == 7:\n",
    "        # Add a day to move to Monday of the next week\n",
    "        date_obj += timedelta(days=1)\n",
    "        year, week, _ = date_obj.isocalendar()\n",
    "\n",
    "        # Special handling for Sundays in the 53rd week of 2015 and 2020\n",
    "        if year in [2015, 2020] and week == 1:\n",
    "            year += 1\n",
    "\n",
    "    return f'{year}-W{week:02d}'\n",
    "\n",
    "\n",
    "date_dict = {date:date_to_iso_week_adjusted(date) for date in dates}\n",
    "\n",
    "# week_format_dates_adjusted now contains the adjusted 'YYYY-Www' format dates\n"
   ]
  }
 ],
 "metadata": {
  "language_info": {
   "name": "python"
  }
 },
 "nbformat": 4,
 "nbformat_minor": 2
}
